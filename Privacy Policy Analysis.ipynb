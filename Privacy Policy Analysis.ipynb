{
 "cells": [
  {
   "cell_type": "code",
   "execution_count": 29,
   "metadata": {},
   "outputs": [],
   "source": [
    "import pandas as pd\n",
    "import numpy as np\n",
    "import textstat"
   ]
  },
  {
   "cell_type": "code",
   "execution_count": 30,
   "metadata": {},
   "outputs": [],
   "source": [
    "# Read in policies\n",
    "sites = [\"Amazon\", \"Ed\", \"ESPN\", \"Facebook\", \"Harvard\", \"NYT\", \"Twitter\", \"Weather\", \"Wikipedia\"]\n",
    "policies = {}\n",
    "cols = [\"\",\"Time\", \"Sentences\", \"Complexity\", \"Reading Level\", \"Words\"]\n",
    "\n",
    "for site in sites: \n",
    "    with open('Privacy Policies/' + site + '.txt') as f:\n",
    "        policies[site] = f.read().replace('\\n', '')"
   ]
  },
  {
   "cell_type": "code",
   "execution_count": 31,
   "metadata": {},
   "outputs": [],
   "source": [
    "# Analyze \n",
    "data = []\n",
    "for site in sites: \n",
    "    # Length\n",
    "    time = textstat.reading_time(policies[site], ms_per_char=15)\n",
    "    sentences = textstat.sentence_count(policies[site])\n",
    "    words = textstat.lexicon_count(policies[site], removepunct=True)\n",
    "\n",
    "    \n",
    "    # Complexity\n",
    "    comp = textstat.flesch_reading_ease(policies[site])\n",
    "\n",
    "    # Reading Level\n",
    "    level = textstat.text_standard(policies[site], float_output=False)\n",
    "    data.append([site, time, sentences, comp, level, words])\n",
    "    \n",
    "data = np.array(data)\n",
    "df = pd.DataFrame(data, columns = cols)"
   ]
  },
  {
   "cell_type": "code",
   "execution_count": 32,
   "metadata": {},
   "outputs": [
    {
     "name": "stdout",
     "output_type": "stream",
     "text": [
      "                Time Sentences Complexity        Reading Level Words\n",
      "0     Amazon   355.7        85       5.73  20th and 21st grade  4090\n",
      "1         Ed  128.85        59      36.12  13th and 14th grade  1565\n",
      "2       ESPN  523.62       106      -4.73  23rd and 24th grade  6187\n",
      "3   Facebook  428.48        99       8.71  30th and 31st grade  5293\n",
      "4    Harvard   61.58        20      25.16  18th and 19th grade   746\n",
      "5        NYT  448.29       140      23.43  19th and 20th grade  5458\n",
      "6    Twitter  428.58       140      32.19  17th and 18th grade  5418\n",
      "7    Weather  545.09       157      20.08  18th and 19th grade  6638\n",
      "8  Wikipedia   427.2       103      11.45  21st and 22nd grade  5228\n"
     ]
    }
   ],
   "source": [
    "print(df)\n",
    "df.to_csv(\"privacy_policy_analysis.csv\")"
   ]
  },
  {
   "cell_type": "code",
   "execution_count": null,
   "metadata": {},
   "outputs": [],
   "source": []
  }
 ],
 "metadata": {
  "kernelspec": {
   "display_name": "Python 3",
   "language": "python",
   "name": "python3"
  },
  "language_info": {
   "codemirror_mode": {
    "name": "ipython",
    "version": 3
   },
   "file_extension": ".py",
   "mimetype": "text/x-python",
   "name": "python",
   "nbconvert_exporter": "python",
   "pygments_lexer": "ipython3",
   "version": "3.7.4"
  }
 },
 "nbformat": 4,
 "nbformat_minor": 2
}
